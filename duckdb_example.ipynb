{
 "cells": [
  {
   "cell_type": "code",
   "execution_count": 1,
   "metadata": {},
   "outputs": [
    {
     "name": "stdout",
     "output_type": "stream",
     "text": [
      "Requirement already satisfied: duckdb in ./.virtualenv/lib/python3.8/site-packages (0.8.0)\n"
     ]
    }
   ],
   "source": [
    "! pip install duckdb"
   ]
  },
  {
   "cell_type": "code",
   "execution_count": 2,
   "metadata": {},
   "outputs": [],
   "source": [
    "# create a simple file-backed database, sitting inside our /tmp folder.\n",
    "\n",
    "import duckdb\n",
    "\n",
    "con = duckdb.connect('/tmp/duckdb-cache-selectedcols.duckdb')\n",
    "con.execute('SET threads TO 4;')\n",
    "\n",
    "\n",
    "# set DuckDB's AWS S3 credentials to be the ones this Workbench instance runs under; this means we can use the `parquet_query` function to provide a list of Parquet\n",
    "# files that DuckDB can directly ingest.\n",
    "\n",
    "from duckdb_support import set_duckdb_aws_credentials\n",
    "\n",
    "set_duckdb_aws_credentials(con)"
   ]
  },
  {
   "cell_type": "code",
   "execution_count": 3,
   "metadata": {},
   "outputs": [
    {
     "data": {
      "application/vnd.jupyter.widget-view+json": {
       "model_id": "4193aa394b0b42bfb9a559596fec4fbd",
       "version_major": 2,
       "version_minor": 0
      },
      "text/plain": [
       "FloatProgress(value=0.0, layout=Layout(width='auto'), style=ProgressStyle(bar_color='black'))"
      ]
     },
     "metadata": {},
     "output_type": "display_data"
    },
    {
     "data": {
      "text/html": [
       "<div>\n",
       "<style scoped>\n",
       "    .dataframe tbody tr th:only-of-type {\n",
       "        vertical-align: middle;\n",
       "    }\n",
       "\n",
       "    .dataframe tbody tr th {\n",
       "        vertical-align: top;\n",
       "    }\n",
       "\n",
       "    .dataframe thead th {\n",
       "        text-align: right;\n",
       "    }\n",
       "</style>\n",
       "<table border=\"1\" class=\"dataframe\">\n",
       "  <thead>\n",
       "    <tr style=\"text-align: right;\">\n",
       "      <th></th>\n",
       "      <th>count_star()</th>\n",
       "    </tr>\n",
       "  </thead>\n",
       "  <tbody>\n",
       "    <tr>\n",
       "      <th>0</th>\n",
       "      <td>7003</td>\n",
       "    </tr>\n",
       "  </tbody>\n",
       "</table>\n",
       "</div>"
      ],
      "text/plain": [
       "   count_star()\n",
       "0          7003"
      ]
     },
     "execution_count": 3,
     "metadata": {},
     "output_type": "execute_result"
    }
   ],
   "source": [
    "# import all NBBO quotes for product 'A', participant DirectEdgeX, from the 'mt_nbbo_quote' source table, for the 3-Jan-2022.\n",
    "\n",
    "import datetime\n",
    "import maystreet_data as md\n",
    "\n",
    "con.execute('DROP TABLE IF EXISTS all_a_trades;')\n",
    "\n",
    "files_list = md.parquet_query(\"mt_nbbo_quote\", [\"cqs_pillar\"], datetime.date(2022, 1, 3))\n",
    "as_strings = map(lambda f: f\"'s3://{f}'\" if not f.startswith('https://') else f\"'{f}'\", files_list)\n",
    "as_string = f\"CREATE TABLE all_a_trades AS SELECT DISTINCT AskPrice, AskQuantity, BidPrice, BidQuantity, BestBidParticipant, SequenceNumber FROM read_parquet([{', '.join(as_strings)}]) WHERE Product = 'A' AND BestAskParticipant = 'DirectEdgeX';\"\n",
    "\n",
    "con.execute(as_string)\n",
    "\n",
    "\n",
    "# how many did we read in?\n",
    "\n",
    "number_entered = con.execute('SELECT COUNT(*) FROM all_a_trades;').fetchdf()\n",
    "number_entered"
   ]
  },
  {
   "cell_type": "code",
   "execution_count": 4,
   "metadata": {},
   "outputs": [
    {
     "data": {
      "application/vnd.jupyter.widget-view+json": {
       "model_id": "55bd7994c25c40568cd4b04deae49f2b",
       "version_major": 2,
       "version_minor": 0
      },
      "text/plain": [
       "FloatProgress(value=0.0, layout=Layout(width='auto'), style=ProgressStyle(bar_color='black'))"
      ]
     },
     "metadata": {},
     "output_type": "display_data"
    },
    {
     "data": {
      "text/html": [
       "<div>\n",
       "<style scoped>\n",
       "    .dataframe tbody tr th:only-of-type {\n",
       "        vertical-align: middle;\n",
       "    }\n",
       "\n",
       "    .dataframe tbody tr th {\n",
       "        vertical-align: top;\n",
       "    }\n",
       "\n",
       "    .dataframe thead th {\n",
       "        text-align: right;\n",
       "    }\n",
       "</style>\n",
       "<table border=\"1\" class=\"dataframe\">\n",
       "  <thead>\n",
       "    <tr style=\"text-align: right;\">\n",
       "      <th></th>\n",
       "      <th>count_star()</th>\n",
       "    </tr>\n",
       "  </thead>\n",
       "  <tbody>\n",
       "    <tr>\n",
       "      <th>0</th>\n",
       "      <td>14006</td>\n",
       "    </tr>\n",
       "  </tbody>\n",
       "</table>\n",
       "</div>"
      ],
      "text/plain": [
       "   count_star()\n",
       "0         14006"
      ]
     },
     "execution_count": 4,
     "metadata": {},
     "output_type": "execute_result"
    }
   ],
   "source": [
    "# a completely impractical and very slow way to retrieve the number of NBBO entries for cqs_pillar given the criteria below...\n",
    "\n",
    "import datetime\n",
    "import maystreet_data as md\n",
    "\n",
    "files_list = md.parquet_query(\"mt_nbbo_quote\", [\"cqs_pillar\"], datetime.date(2022, 1, 3))\n",
    "as_strings = map(lambda f: f\"'s3://{f}'\", files_list)\n",
    "as_string = f\"SELECT COUNT(*) FROM read_parquet([{', '.join(as_strings)}]) WHERE Product = 'A' AND BestAskParticipant = 'DirectEdgeX';\"\n",
    "\n",
    "con.execute(as_string).fetchdf()"
   ]
  },
  {
   "cell_type": "code",
   "execution_count": 5,
   "metadata": {},
   "outputs": [
    {
     "data": {
      "text/html": [
       "<div>\n",
       "<style scoped>\n",
       "    .dataframe tbody tr th:only-of-type {\n",
       "        vertical-align: middle;\n",
       "    }\n",
       "\n",
       "    .dataframe tbody tr th {\n",
       "        vertical-align: top;\n",
       "    }\n",
       "\n",
       "    .dataframe thead th {\n",
       "        text-align: right;\n",
       "    }\n",
       "</style>\n",
       "<table border=\"1\" class=\"dataframe\">\n",
       "  <thead>\n",
       "    <tr style=\"text-align: right;\">\n",
       "      <th></th>\n",
       "      <th>SequenceID</th>\n",
       "      <th>ExampleName</th>\n",
       "    </tr>\n",
       "  </thead>\n",
       "  <tbody>\n",
       "    <tr>\n",
       "      <th>0</th>\n",
       "      <td>157521</td>\n",
       "      <td>This is an example</td>\n",
       "    </tr>\n",
       "    <tr>\n",
       "      <th>1</th>\n",
       "      <td>452142</td>\n",
       "      <td>This is another example</td>\n",
       "    </tr>\n",
       "  </tbody>\n",
       "</table>\n",
       "</div>"
      ],
      "text/plain": [
       "   SequenceID              ExampleName\n",
       "0      157521       This is an example\n",
       "1      452142  This is another example"
      ]
     },
     "execution_count": 5,
     "metadata": {},
     "output_type": "execute_result"
    }
   ],
   "source": [
    "# insert CSV data from our local directory into DuckDB.\n",
    "\n",
    "con = duckdb.connect('/tmp/duckdb-cache-selectedcols.duckdb')\n",
    "\n",
    "con.execute('DROP TABLE IF EXISTS example_csv;')\n",
    "\n",
    "command_string = 'CREATE TABLE example_csv AS SELECT * FROM read_csv_auto(\"example_csv_file.csv\");'\n",
    "con.execute(command_string)\n",
    "\n",
    "command_string = 'SELECT * FROM example_csv;'\n",
    "\n",
    "data_frame = con.execute(command_string).fetchdf()\n",
    "data_frame"
   ]
  },
  {
   "cell_type": "code",
   "execution_count": 6,
   "metadata": {},
   "outputs": [
    {
     "data": {
      "text/html": [
       "<div>\n",
       "<style scoped>\n",
       "    .dataframe tbody tr th:only-of-type {\n",
       "        vertical-align: middle;\n",
       "    }\n",
       "\n",
       "    .dataframe tbody tr th {\n",
       "        vertical-align: top;\n",
       "    }\n",
       "\n",
       "    .dataframe thead th {\n",
       "        text-align: right;\n",
       "    }\n",
       "</style>\n",
       "<table border=\"1\" class=\"dataframe\">\n",
       "  <thead>\n",
       "    <tr style=\"text-align: right;\">\n",
       "      <th></th>\n",
       "      <th>SequenceID</th>\n",
       "      <th>ExampleName</th>\n",
       "      <th>AskPrice</th>\n",
       "      <th>AskQuantity</th>\n",
       "      <th>BidPrice</th>\n",
       "      <th>BidQuantity</th>\n",
       "      <th>BestBidParticipant</th>\n",
       "      <th>SequenceNumber</th>\n",
       "    </tr>\n",
       "  </thead>\n",
       "  <tbody>\n",
       "    <tr>\n",
       "      <th>0</th>\n",
       "      <td>157521</td>\n",
       "      <td>This is an example</td>\n",
       "      <td>163.2</td>\n",
       "      <td>300</td>\n",
       "      <td>155.00</td>\n",
       "      <td>100</td>\n",
       "      <td>NYSEArca</td>\n",
       "      <td>157521</td>\n",
       "    </tr>\n",
       "    <tr>\n",
       "      <th>1</th>\n",
       "      <td>452142</td>\n",
       "      <td>This is another example</td>\n",
       "      <td>159.1</td>\n",
       "      <td>100</td>\n",
       "      <td>158.59</td>\n",
       "      <td>800</td>\n",
       "      <td>MEMX</td>\n",
       "      <td>452142</td>\n",
       "    </tr>\n",
       "  </tbody>\n",
       "</table>\n",
       "</div>"
      ],
      "text/plain": [
       "   SequenceID              ExampleName  AskPrice  AskQuantity  BidPrice  \\\n",
       "0      157521       This is an example     163.2          300    155.00   \n",
       "1      452142  This is another example     159.1          100    158.59   \n",
       "\n",
       "   BidQuantity BestBidParticipant  SequenceNumber  \n",
       "0          100           NYSEArca          157521  \n",
       "1          800               MEMX          452142  "
      ]
     },
     "execution_count": 6,
     "metadata": {},
     "output_type": "execute_result"
    }
   ],
   "source": [
    "# retrieve the NBBOs from LLG's data joined with the data we supplied.\n",
    "\n",
    "data_frame = con.execute('SELECT ex.*, at.* FROM example_csv ex LEFT JOIN all_a_trades at ON at.SequenceNumber = ex.SequenceID').fetchdf()\n",
    "data_frame"
   ]
  },
  {
   "cell_type": "code",
   "execution_count": 7,
   "metadata": {},
   "outputs": [
    {
     "data": {
      "text/plain": [
       "<duckdb.DuckDBPyConnection at 0x7fdfbc5ddb70>"
      ]
     },
     "execution_count": 7,
     "metadata": {},
     "output_type": "execute_result"
    }
   ],
   "source": [
    "# export data into a file in the local directory\n",
    "\n",
    "con.execute(\"COPY all_a_trades TO '/home/workbench/all-a-trades-DirectEdgeX.csv' WITH (HEADER 1);\")"
   ]
  },
  {
   "cell_type": "code",
   "execution_count": 8,
   "metadata": {},
   "outputs": [],
   "source": [
    "# finally close the connection\n",
    "\n",
    "con.close()"
   ]
  }
 ],
 "metadata": {
  "kernelspec": {
   "display_name": ".virtualenv",
   "language": "python",
   "name": "python3"
  },
  "language_info": {
   "codemirror_mode": {
    "name": "ipython",
    "version": 3
   },
   "file_extension": ".py",
   "mimetype": "text/x-python",
   "name": "python",
   "nbconvert_exporter": "python",
   "pygments_lexer": "ipython3",
   "version": "3.8.10"
  },
  "orig_nbformat": 4
 },
 "nbformat": 4,
 "nbformat_minor": 2
}
